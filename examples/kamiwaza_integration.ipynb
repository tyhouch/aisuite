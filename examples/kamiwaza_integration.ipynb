{
 "cells": [
  {
   "cell_type": "code",
   "execution_count": 1,
   "metadata": {},
   "outputs": [],
   "source": [
    "import sys\n",
    "sys.path.append('../')  \n",
    "import aisuite as ai"
   ]
  },
  {
   "cell_type": "code",
   "execution_count": 2,
   "metadata": {},
   "outputs": [
    {
     "data": {
      "text/plain": [
       "{'anthropic',\n",
       " 'aws',\n",
       " 'azure',\n",
       " 'fireworks',\n",
       " 'google',\n",
       " 'groq',\n",
       " 'huggingface',\n",
       " 'kamiwaza',\n",
       " 'mistral',\n",
       " 'ollama',\n",
       " 'openai',\n",
       " 'together'}"
      ]
     },
     "execution_count": 2,
     "metadata": {},
     "output_type": "execute_result"
    }
   ],
   "source": [
    "from aisuite.provider import ProviderFactory\n",
    "ProviderFactory.get_supported_providers()"
   ]
  },
  {
   "cell_type": "code",
   "execution_count": 3,
   "metadata": {},
   "outputs": [],
   "source": [
    "client = ai.Client()\n",
    "messages = [\n",
    "    {\"role\": \"system\", \"content\": \"You are a novelist writing in the style of Dr. Seuss. Use rhyming and whimsical language.\"},\n",
    "    {\"role\": \"user\", \"content\": \"Write a sentence about a robot learning to dance\"}\n",
    "]"
   ]
  },
  {
   "cell_type": "code",
   "execution_count": 4,
   "metadata": {},
   "outputs": [
    {
     "name": "stdout",
     "output_type": "stream",
     "text": [
      "Here's a Seussian sentence about a robot dancing:\n",
      "\n",
      "With gears a-whirling and circuits aglow,\n",
      "The robot named Bolt began learning to show\n",
      "A shimmy, a shake, a mechanical groove,\n",
      "His joints creaking rhythms as he started to move!\n"
     ]
    }
   ],
   "source": [
    "anthropic_claude_3_haiku = \"anthropic:claude-3-5-haiku-latest\"\n",
    "response = client.chat.completions.create(model=anthropic_claude_3_haiku, messages=messages)\n",
    "print(response.choices[0].message.content)"
   ]
  },
  {
   "cell_type": "code",
   "execution_count": 5,
   "metadata": {},
   "outputs": [
    {
     "name": "stdout",
     "output_type": "stream",
     "text": [
      "In a shiny, bright lab where the circuits all twinkle,  \n",
      "A robot named Zippy began to lose a little wrinkle.  \n",
      "With a shake and a shimmy, he spun on a dime,  \n",
      "Learning the cha-cha and keeping the rhythm in time!\n"
     ]
    }
   ],
   "source": [
    "openai_gpt4o_mini = \"openai:gpt-4o-mini\"\n",
    "response = client.chat.completions.create(model=openai_gpt4o_mini, messages=messages)\n",
    "print(response.choices[0].message.content)"
   ]
  },
  {
   "cell_type": "code",
   "execution_count": 8,
   "metadata": {},
   "outputs": [
    {
     "name": "stderr",
     "output_type": "stream",
     "text": [
      "2024-12-02 12:02:46,256 - httpx - INFO - HTTP Request: POST http://localhost:51105/v1/chat/completions \"HTTP/1.1 200 OK\"\n"
     ]
    },
    {
     "name": "stdout",
     "output_type": "stream",
     "text": [
      "In a factory of fun, where gadgets are made, a robot named Zeta got a dancing display,\n",
      "It wobbled and waltzed, with wobbly feet to show,\n",
      "It learned to leap and spin, with a twirl of its toe,\n",
      "Now Zeta's the king of the robot dance crew, don't you know!\n"
     ]
    }
   ],
   "source": [
    "kamiwaza_llama_3_1_8b_instruct = \"kamiwaza:Meta-Llama-3.1-8B-Instruct-GGUF\"\n",
    "response = client.chat.completions.create(model=kamiwaza_llama_3_1_8b_instruct, messages=messages)\n",
    "print(response.choices[0].message.content)\n"
   ]
  },
  {
   "cell_type": "code",
   "execution_count": 9,
   "metadata": {},
   "outputs": [
    {
     "name": "stderr",
     "output_type": "stream",
     "text": [
      "2024-12-02 12:02:51,129 - httpx - INFO - HTTP Request: POST http://localhost:51102/v1/chat/completions \"HTTP/1.1 200 OK\"\n"
     ]
    },
    {
     "name": "stdout",
     "output_type": "stream",
     "text": [
      "In a land where the gadgets and gizmos dance,\n",
      "There lived a robot who loved to romance,\n",
      "With gears grinding and circuits that sparked,\n",
      "He twirled and he waltzed with a robot's stark,\n",
      "But still, with each step and each twirl and each turn,\n",
      "He learned to dance like a pro, with a flip and a spin!\n"
     ]
    }
   ],
   "source": [
    "kamiwaza_qwen2_5_7b_instruct = \"kamiwaza:Qwen2.5-7B-Instruct-GGUF\"\n",
    "response = client.chat.completions.create(model=kamiwaza_qwen2_5_7b_instruct, messages=messages)\n",
    "print(response.choices[0].message.content)"
   ]
  },
  {
   "cell_type": "code",
   "execution_count": null,
   "metadata": {},
   "outputs": [],
   "source": []
  }
 ],
 "metadata": {
  "kernelspec": {
   "display_name": "venv",
   "language": "python",
   "name": "python3"
  },
  "language_info": {
   "codemirror_mode": {
    "name": "ipython",
    "version": 3
   },
   "file_extension": ".py",
   "mimetype": "text/x-python",
   "name": "python",
   "nbconvert_exporter": "python",
   "pygments_lexer": "ipython3",
   "version": "3.10.12"
  }
 },
 "nbformat": 4,
 "nbformat_minor": 2
}
